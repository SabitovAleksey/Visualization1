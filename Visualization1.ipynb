{
 "cells": [
  {
   "cell_type": "markdown",
   "metadata": {},
   "source": [
    "## Задание по визуализации данных: \n",
    "- Распределение клиентов по возрасту в течение времени\n",
    "- Конверсия клиентов в зависимости от возраста\n",
    "- Зависимость размера первой покупки от скорости утилизации"
   ]
  },
  {
   "cell_type": "code",
   "execution_count": 23,
   "metadata": {},
   "outputs": [],
   "source": [
    "import pandas as pd\n",
    "from matplotlib import pyplot as plt\n",
    "import seaborn as sns\n",
    "from pandas import ExcelWriter\n",
    "from pandas import ExcelFile\n",
    "import numpy as np"
   ]
  },
  {
   "cell_type": "code",
   "execution_count": 24,
   "metadata": {},
   "outputs": [],
   "source": [
    "df = pd.read_excel('table1.xls')"
   ]
  },
  {
   "cell_type": "code",
   "execution_count": 25,
   "metadata": {},
   "outputs": [
    {
     "data": {
      "text/html": [
       "<div>\n",
       "<style scoped>\n",
       "    .dataframe tbody tr th:only-of-type {\n",
       "        vertical-align: middle;\n",
       "    }\n",
       "\n",
       "    .dataframe tbody tr th {\n",
       "        vertical-align: top;\n",
       "    }\n",
       "\n",
       "    .dataframe thead th {\n",
       "        text-align: right;\n",
       "    }\n",
       "</style>\n",
       "<table border=\"1\" class=\"dataframe\">\n",
       "  <thead>\n",
       "    <tr style=\"text-align: right;\">\n",
       "      <th></th>\n",
       "      <th>client_id</th>\n",
       "      <th>birth_dt</th>\n",
       "      <th>reg_dttm</th>\n",
       "      <th>purchase_id</th>\n",
       "      <th>purchase_dt</th>\n",
       "      <th>purchase_amt</th>\n",
       "    </tr>\n",
       "  </thead>\n",
       "  <tbody>\n",
       "    <tr>\n",
       "      <th>0</th>\n",
       "      <td>820519</td>\n",
       "      <td>1990-05-10</td>\n",
       "      <td>2019-01-02 12:49:39</td>\n",
       "      <td>NaN</td>\n",
       "      <td>NaT</td>\n",
       "      <td>NaN</td>\n",
       "    </tr>\n",
       "    <tr>\n",
       "      <th>1</th>\n",
       "      <td>820521</td>\n",
       "      <td>1970-03-23</td>\n",
       "      <td>2019-01-02 14:14:39</td>\n",
       "      <td>NaN</td>\n",
       "      <td>NaT</td>\n",
       "      <td>NaN</td>\n",
       "    </tr>\n",
       "    <tr>\n",
       "      <th>2</th>\n",
       "      <td>820523</td>\n",
       "      <td>1991-04-01</td>\n",
       "      <td>2019-01-02 19:51:19</td>\n",
       "      <td>1.204926e+09</td>\n",
       "      <td>2019-02-12</td>\n",
       "      <td>500.0</td>\n",
       "    </tr>\n",
       "    <tr>\n",
       "      <th>3</th>\n",
       "      <td>820526</td>\n",
       "      <td>1985-04-27</td>\n",
       "      <td>2019-01-02 18:09:39</td>\n",
       "      <td>NaN</td>\n",
       "      <td>NaT</td>\n",
       "      <td>NaN</td>\n",
       "    </tr>\n",
       "    <tr>\n",
       "      <th>4</th>\n",
       "      <td>820544</td>\n",
       "      <td>1991-05-03</td>\n",
       "      <td>2019-01-03 12:24:42</td>\n",
       "      <td>NaN</td>\n",
       "      <td>NaT</td>\n",
       "      <td>NaN</td>\n",
       "    </tr>\n",
       "    <tr>\n",
       "      <th>5</th>\n",
       "      <td>820552</td>\n",
       "      <td>1999-04-01</td>\n",
       "      <td>2019-01-03 18:04:45</td>\n",
       "      <td>NaN</td>\n",
       "      <td>NaT</td>\n",
       "      <td>NaN</td>\n",
       "    </tr>\n",
       "    <tr>\n",
       "      <th>6</th>\n",
       "      <td>820561</td>\n",
       "      <td>1993-10-22</td>\n",
       "      <td>2019-01-04 14:39:43</td>\n",
       "      <td>1.205778e+09</td>\n",
       "      <td>2019-02-13</td>\n",
       "      <td>500.0</td>\n",
       "    </tr>\n",
       "    <tr>\n",
       "      <th>7</th>\n",
       "      <td>820562</td>\n",
       "      <td>1981-08-17</td>\n",
       "      <td>2019-01-04 13:46:59</td>\n",
       "      <td>NaN</td>\n",
       "      <td>NaT</td>\n",
       "      <td>NaN</td>\n",
       "    </tr>\n",
       "    <tr>\n",
       "      <th>8</th>\n",
       "      <td>820588</td>\n",
       "      <td>1984-11-17</td>\n",
       "      <td>2019-01-04 21:41:25</td>\n",
       "      <td>NaN</td>\n",
       "      <td>NaT</td>\n",
       "      <td>NaN</td>\n",
       "    </tr>\n",
       "    <tr>\n",
       "      <th>9</th>\n",
       "      <td>820598</td>\n",
       "      <td>1980-12-02</td>\n",
       "      <td>2019-01-05 00:54:46</td>\n",
       "      <td>NaN</td>\n",
       "      <td>NaT</td>\n",
       "      <td>NaN</td>\n",
       "    </tr>\n",
       "  </tbody>\n",
       "</table>\n",
       "</div>"
      ],
      "text/plain": [
       "   client_id   birth_dt            reg_dttm   purchase_id purchase_dt  \\\n",
       "0     820519 1990-05-10 2019-01-02 12:49:39           NaN         NaT   \n",
       "1     820521 1970-03-23 2019-01-02 14:14:39           NaN         NaT   \n",
       "2     820523 1991-04-01 2019-01-02 19:51:19  1.204926e+09  2019-02-12   \n",
       "3     820526 1985-04-27 2019-01-02 18:09:39           NaN         NaT   \n",
       "4     820544 1991-05-03 2019-01-03 12:24:42           NaN         NaT   \n",
       "5     820552 1999-04-01 2019-01-03 18:04:45           NaN         NaT   \n",
       "6     820561 1993-10-22 2019-01-04 14:39:43  1.205778e+09  2019-02-13   \n",
       "7     820562 1981-08-17 2019-01-04 13:46:59           NaN         NaT   \n",
       "8     820588 1984-11-17 2019-01-04 21:41:25           NaN         NaT   \n",
       "9     820598 1980-12-02 2019-01-05 00:54:46           NaN         NaT   \n",
       "\n",
       "   purchase_amt  \n",
       "0           NaN  \n",
       "1           NaN  \n",
       "2         500.0  \n",
       "3           NaN  \n",
       "4           NaN  \n",
       "5           NaN  \n",
       "6         500.0  \n",
       "7           NaN  \n",
       "8           NaN  \n",
       "9           NaN  "
      ]
     },
     "execution_count": 25,
     "metadata": {},
     "output_type": "execute_result"
    }
   ],
   "source": [
    "df.head(10)"
   ]
  },
  {
   "cell_type": "code",
   "execution_count": 26,
   "metadata": {},
   "outputs": [
    {
     "data": {
      "text/plain": [
       "2099"
      ]
     },
     "execution_count": 26,
     "metadata": {},
     "output_type": "execute_result"
    }
   ],
   "source": [
    "len(df['client_id'].unique())"
   ]
  },
  {
   "cell_type": "code",
   "execution_count": 27,
   "metadata": {},
   "outputs": [
    {
     "data": {
      "text/plain": [
       "0       0.000000e+00\n",
       "1       0.000000e+00\n",
       "2       1.204926e+09\n",
       "3       0.000000e+00\n",
       "4       0.000000e+00\n",
       "            ...     \n",
       "2372    0.000000e+00\n",
       "2373    1.299279e+09\n",
       "2374    1.299387e+09\n",
       "2375    0.000000e+00\n",
       "2376    0.000000e+00\n",
       "Name: purchase_id, Length: 2377, dtype: float64"
      ]
     },
     "execution_count": 27,
     "metadata": {},
     "output_type": "execute_result"
    }
   ],
   "source": [
    "#Преобразуем тип client_id в int\n",
    "def to_int(val):\n",
    "    if not pd.isna(val):\n",
    "        return int(val)\n",
    "df['purchase_id'] = df[\"purchase_id\"].apply(to_int).fillna(0)\n",
    "df['purchase_id']"
   ]
  },
  {
   "cell_type": "code",
   "execution_count": 29,
   "metadata": {},
   "outputs": [
    {
     "data": {
      "text/html": [
       "<div>\n",
       "<style scoped>\n",
       "    .dataframe tbody tr th:only-of-type {\n",
       "        vertical-align: middle;\n",
       "    }\n",
       "\n",
       "    .dataframe tbody tr th {\n",
       "        vertical-align: top;\n",
       "    }\n",
       "\n",
       "    .dataframe thead th {\n",
       "        text-align: right;\n",
       "    }\n",
       "</style>\n",
       "<table border=\"1\" class=\"dataframe\">\n",
       "  <thead>\n",
       "    <tr style=\"text-align: right;\">\n",
       "      <th></th>\n",
       "      <th>client_id</th>\n",
       "      <th>birth_dt</th>\n",
       "      <th>reg_dttm</th>\n",
       "      <th>purchase_id</th>\n",
       "      <th>purchase_dt</th>\n",
       "      <th>purchase_amt</th>\n",
       "      <th>age</th>\n",
       "    </tr>\n",
       "  </thead>\n",
       "  <tbody>\n",
       "    <tr>\n",
       "      <th>0</th>\n",
       "      <td>820519</td>\n",
       "      <td>1990-05-10</td>\n",
       "      <td>2019-01-02 12:49:39</td>\n",
       "      <td>0.000000e+00</td>\n",
       "      <td>NaT</td>\n",
       "      <td>NaN</td>\n",
       "      <td>29</td>\n",
       "    </tr>\n",
       "    <tr>\n",
       "      <th>1</th>\n",
       "      <td>820521</td>\n",
       "      <td>1970-03-23</td>\n",
       "      <td>2019-01-02 14:14:39</td>\n",
       "      <td>0.000000e+00</td>\n",
       "      <td>NaT</td>\n",
       "      <td>NaN</td>\n",
       "      <td>49</td>\n",
       "    </tr>\n",
       "    <tr>\n",
       "      <th>2</th>\n",
       "      <td>820523</td>\n",
       "      <td>1991-04-01</td>\n",
       "      <td>2019-01-02 19:51:19</td>\n",
       "      <td>1.204926e+09</td>\n",
       "      <td>2019-02-12</td>\n",
       "      <td>500.0</td>\n",
       "      <td>28</td>\n",
       "    </tr>\n",
       "    <tr>\n",
       "      <th>3</th>\n",
       "      <td>820526</td>\n",
       "      <td>1985-04-27</td>\n",
       "      <td>2019-01-02 18:09:39</td>\n",
       "      <td>0.000000e+00</td>\n",
       "      <td>NaT</td>\n",
       "      <td>NaN</td>\n",
       "      <td>34</td>\n",
       "    </tr>\n",
       "    <tr>\n",
       "      <th>4</th>\n",
       "      <td>820544</td>\n",
       "      <td>1991-05-03</td>\n",
       "      <td>2019-01-03 12:24:42</td>\n",
       "      <td>0.000000e+00</td>\n",
       "      <td>NaT</td>\n",
       "      <td>NaN</td>\n",
       "      <td>28</td>\n",
       "    </tr>\n",
       "  </tbody>\n",
       "</table>\n",
       "</div>"
      ],
      "text/plain": [
       "   client_id   birth_dt            reg_dttm   purchase_id purchase_dt  \\\n",
       "0     820519 1990-05-10 2019-01-02 12:49:39  0.000000e+00         NaT   \n",
       "1     820521 1970-03-23 2019-01-02 14:14:39  0.000000e+00         NaT   \n",
       "2     820523 1991-04-01 2019-01-02 19:51:19  1.204926e+09  2019-02-12   \n",
       "3     820526 1985-04-27 2019-01-02 18:09:39  0.000000e+00         NaT   \n",
       "4     820544 1991-05-03 2019-01-03 12:24:42  0.000000e+00         NaT   \n",
       "\n",
       "   purchase_amt  age  \n",
       "0           NaN   29  \n",
       "1           NaN   49  \n",
       "2         500.0   28  \n",
       "3           NaN   34  \n",
       "4           NaN   28  "
      ]
     },
     "execution_count": 29,
     "metadata": {},
     "output_type": "execute_result"
    }
   ],
   "source": [
    "# Добавляем колонку возраста клиентов age (просто вычтем года)\n",
    "df['age'] = df['reg_dttm'].dt.year - df['birth_dt'].dt.year\n",
    "df.head(5)"
   ]
  },
  {
   "cell_type": "code",
   "execution_count": 39,
   "metadata": {},
   "outputs": [
    {
     "data": {
      "text/html": [
       "<div>\n",
       "<style scoped>\n",
       "    .dataframe tbody tr th:only-of-type {\n",
       "        vertical-align: middle;\n",
       "    }\n",
       "\n",
       "    .dataframe tbody tr th {\n",
       "        vertical-align: top;\n",
       "    }\n",
       "\n",
       "    .dataframe thead tr th {\n",
       "        text-align: left;\n",
       "    }\n",
       "\n",
       "    .dataframe thead tr:last-of-type th {\n",
       "        text-align: right;\n",
       "    }\n",
       "</style>\n",
       "<table border=\"1\" class=\"dataframe\">\n",
       "  <thead>\n",
       "    <tr>\n",
       "      <th></th>\n",
       "      <th>age</th>\n",
       "    </tr>\n",
       "    <tr>\n",
       "      <th></th>\n",
       "      <th>count</th>\n",
       "    </tr>\n",
       "    <tr>\n",
       "      <th>reg_dttm</th>\n",
       "      <th></th>\n",
       "    </tr>\n",
       "  </thead>\n",
       "  <tbody>\n",
       "    <tr>\n",
       "      <th>2019-01-31</th>\n",
       "      <td>210</td>\n",
       "    </tr>\n",
       "    <tr>\n",
       "      <th>2019-02-28</th>\n",
       "      <td>241</td>\n",
       "    </tr>\n",
       "    <tr>\n",
       "      <th>2019-03-31</th>\n",
       "      <td>119</td>\n",
       "    </tr>\n",
       "    <tr>\n",
       "      <th>2019-04-30</th>\n",
       "      <td>3</td>\n",
       "    </tr>\n",
       "  </tbody>\n",
       "</table>\n",
       "</div>"
      ],
      "text/plain": [
       "             age\n",
       "           count\n",
       "reg_dttm        \n",
       "2019-01-31   210\n",
       "2019-02-28   241\n",
       "2019-03-31   119\n",
       "2019-04-30     3"
      ]
     },
     "execution_count": 39,
     "metadata": {},
     "output_type": "execute_result"
    }
   ],
   "source": [
    "#строим 3 таблицы с разными возрастными группами, где группируемзначения по дате с частотой - месяц,\n",
    "#считаем количество клиентов \n",
    "df_less_then_25 = df[df.age<25].groupby(pd.Grouper(key=\"reg_dttm\", freq=\"M\")).agg({'age': ['count']})\n",
    "df_less_then_25\n",
    "\n",
    "df_25_35 = df[(df.age>=25) & (df.age<=35)].groupby(pd.Grouper(key=\"reg_dttm\", freq=\"M\")).agg({'age': ['count']})\n",
    "df_25_35.head()\n",
    "\n",
    "df_more_then_35 = df[df.age>35].groupby(pd.Grouper(key=\"reg_dttm\", freq=\"M\")).agg({'age': ['count']})\n",
    "df_more_then_35.head()\n"
   ]
  },
  {
   "cell_type": "code",
   "execution_count": 31,
   "metadata": {},
   "outputs": [
    {
     "name": "stderr",
     "output_type": "stream",
     "text": [
      "<ipython-input-31-3e159a301731>:19: UserWarning: FixedFormatter should only be used together with FixedLocator\n",
      "  ax.set_xticklabels(['', 'Yan', '',  'Feb', '',  'Mar','',  'Apr', ''])\n"
     ]
    },
    {
     "data": {
      "text/plain": [
       "Text(0.5, 1.0, 'Распределение клиентов по возрасту в течение времени')"
      ]
     },
     "execution_count": 31,
     "metadata": {},
     "output_type": "execute_result"
    },
    {
     "data": {
      "image/png": "[encoded data removed]",
      "text/plain": [
       "<Figure size 576x576 with 1 Axes>"
      ]
     },
     "metadata": {
      "needs_background": "light"
     },
     "output_type": "display_data"
    }
   ],
   "source": [
    "#Строим графики (значения по осям не автоматизированы, надо было словарь завести)\n",
    "fig, ax = plt.subplots(figsize = (8,8))\n",
    "x = np.linspace(1, 4, 4)\n",
    "\n",
    "ax.bar(x-0.2, df_less_then_25['age'].squeeze(), width = 0.2, color = 'green', label = 'до 25')\n",
    "\n",
    "ax.bar(x, df_25_35['age'].squeeze(), width = 0.2, color = 'yellow', label = 'от 25 до 35')\n",
    "\n",
    "ax.bar(x+0.2, df_more_then_35['age'].squeeze(), width = 0.2, color = 'orange', label = 'больше 35')\n",
    "\n",
    "for i in range(len(x)):\n",
    "    plt.text(x[i]-0.3, int(df_less_then_25.iloc[i]['age'])+5, str(int(df_less_then_25.iloc[i]['age'])))\n",
    "    plt.text(x[i]-0.05, int(df_25_35.iloc[i]['age'])+5, str(int(df_25_35.iloc[i]['age'])))\n",
    "    plt.text(x[i]+0.15, int(df_more_then_35.iloc[i]['age'])+5, str(int(df_more_then_35.iloc[i]['age'])))\n",
    "\n",
    "plt.xlabel('Месяц')\n",
    "plt.ylabel('Количество клиентов')\n",
    "ax.legend()\n",
    "ax.set_ylim(0, 500)\n",
    "ax.set_xticklabels(['', 'Yan', '',  'Feb', '',  'Mar','',  'Apr', ''])\n",
    "ax.set_title(\"Распределение клиентов по возрасту в течение времени\")"
   ]
  },
  {
   "cell_type": "code",
   "execution_count": 32,
   "metadata": {},
   "outputs": [
    {
     "data": {
      "text/plain": [
       "[54.0, 50.1, 51.5]"
      ]
     },
     "execution_count": 32,
     "metadata": {},
     "output_type": "execute_result"
    }
   ],
   "source": [
    "# Находим конверсии (%)\n",
    "df1 = df[(df['purchase_id'] != 0) & (df['age']<25)]\n",
    "\n",
    "df2 = df[(df['purchase_id'] != 0) & (df['age']>=25) & (df['age'] <= 35)]\n",
    "\n",
    "df3 = df[(df['purchase_id'] != 0) & (df['age']>35) ]\n",
    "\n",
    "conversion = [(df1['client_id'].count()/int(df_less_then_25['age'].sum())).round(3)*100, \n",
    "              (df2['client_id'].count()/int(df_25_35['age'].sum())).round(3)*100,\n",
    "              (df3['client_id'].count()/int(df_more_then_35['age'].sum())).round(3)*100]\n",
    "conversion"
   ]
  },
  {
   "cell_type": "code",
   "execution_count": 40,
   "metadata": {},
   "outputs": [
    {
     "name": "stderr",
     "output_type": "stream",
     "text": [
      "<ipython-input-40-4a4248db41aa>:9: UserWarning: FixedFormatter should only be used together with FixedLocator\n",
      "  ax.set_xticklabels(['', 'меньше 25 лет', '25 - 35 лет', 'больше 35 лет'])\n"
     ]
    },
    {
     "data": {
      "text/plain": [
       "Text(2.9, 52.5, '51.5')"
      ]
     },
     "execution_count": 40,
     "metadata": {},
     "output_type": "execute_result"
    },
    {
     "data": {
      "image/png": "[encoded data removed]",
      "text/plain": [
       "<Figure size 576x576 with 1 Axes>"
      ]
     },
     "metadata": {
      "needs_background": "light"
     },
     "output_type": "display_data"
    }
   ],
   "source": [
    "import matplotlib.ticker as ticker\n",
    "\n",
    "x = np.linspace(1, len(conversion), len(conversion))\n",
    "\n",
    "fig, ax = plt.subplots(figsize = (8,8))\n",
    "\n",
    "ax.bar(x, conversion, color = ['#006400', '#FFD700', '#FF4500'], width = 0.5)\n",
    "ax.xaxis.set_major_locator(ticker.MultipleLocator(1))\n",
    "ax.set_xticklabels(['', 'меньше 25 лет', '25 - 35 лет', 'больше 35 лет'])\n",
    "ax.set_ylim(0, 65)\n",
    "ax.set_title(\"Конверсия клиентов в зависимости от возраста\", fontsize = 16)\n",
    "\n",
    "plt.xlabel('Возраст', fontsize = 14)\n",
    "plt.ylabel('%', fontsize = 14)\n",
    "plt.text(x[0]-0.1, conversion[0]+1, str(conversion[0]), fontsize = 12)\n",
    "plt.text(x[1]-0.1, conversion[1]+1, str(conversion[1]), fontsize = 12)\n",
    "plt.text(x[2]-0.1, conversion[2]+1, str(conversion[2]), fontsize = 12)\n"
   ]
  },
  {
   "cell_type": "code",
   "execution_count": 41,
   "metadata": {},
   "outputs": [
    {
     "name": "stdout",
     "output_type": "stream",
     "text": [
      "<class 'pandas.core.frame.DataFrame'>\n",
      "Int64Index: 1239 entries, 2 to 2374\n",
      "Data columns (total 7 columns):\n",
      " #   Column        Non-Null Count  Dtype         \n",
      "---  ------        --------------  -----         \n",
      " 0   client_id     1239 non-null   int64         \n",
      " 1   birth_dt      1239 non-null   datetime64[ns]\n",
      " 2   reg_dttm      1239 non-null   datetime64[ns]\n",
      " 3   purchase_id   1239 non-null   float64       \n",
      " 4   purchase_dt   1239 non-null   datetime64[ns]\n",
      " 5   purchase_amt  1239 non-null   float64       \n",
      " 6   age           1239 non-null   int64         \n",
      "dtypes: datetime64[ns](3), float64(2), int64(2)\n",
      "memory usage: 77.4 KB\n",
      "<class 'pandas.core.frame.DataFrame'>\n",
      "Int64Index: 961 entries, 2 to 2374\n",
      "Data columns (total 7 columns):\n",
      " #   Column        Non-Null Count  Dtype         \n",
      "---  ------        --------------  -----         \n",
      " 0   client_id     961 non-null    int64         \n",
      " 1   birth_dt      961 non-null    datetime64[ns]\n",
      " 2   reg_dttm      961 non-null    datetime64[ns]\n",
      " 3   purchase_id   961 non-null    float64       \n",
      " 4   purchase_dt   961 non-null    datetime64[ns]\n",
      " 5   purchase_amt  961 non-null    float64       \n",
      " 6   age           961 non-null    int64         \n",
      "dtypes: datetime64[ns](3), float64(2), int64(2)\n",
      "memory usage: 60.1 KB\n"
     ]
    },
    {
     "name": "stderr",
     "output_type": "stream",
     "text": [
      "<ipython-input-41-a696fa64cfbb>:12: SettingWithCopyWarning: \n",
      "A value is trying to be set on a copy of a slice from a DataFrame.\n",
      "Try using .loc[row_indexer,col_indexer] = value instead\n",
      "\n",
      "See the caveats in the documentation: https://pandas.pydata.org/pandas-docs/stable/user_guide/indexing.html#returning-a-view-versus-a-copy\n",
      "  df2['speed'] = df2.purchase_dt - pd.to_datetime(df2.reg_dttm, format = '%Y-%m-%d')\n",
      "<ipython-input-41-a696fa64cfbb>:13: SettingWithCopyWarning: \n",
      "A value is trying to be set on a copy of a slice from a DataFrame.\n",
      "Try using .loc[row_indexer,col_indexer] = value instead\n",
      "\n",
      "See the caveats in the documentation: https://pandas.pydata.org/pandas-docs/stable/user_guide/indexing.html#returning-a-view-versus-a-copy\n",
      "  df2['speed'] = df2['speed'].dt.days\n",
      "<ipython-input-41-a696fa64cfbb>:16: SettingWithCopyWarning: \n",
      "A value is trying to be set on a copy of a slice from a DataFrame.\n",
      "Try using .loc[row_indexer,col_indexer] = value instead\n",
      "\n",
      "See the caveats in the documentation: https://pandas.pydata.org/pandas-docs/stable/user_guide/indexing.html#returning-a-view-versus-a-copy\n",
      "  df2['speed'] = np.where((df2.speed == 0), 1, df2.speed)\n",
      "C:\\anaconda3\\lib\\site-packages\\pandas\\core\\indexing.py:1765: SettingWithCopyWarning: \n",
      "A value is trying to be set on a copy of a slice from a DataFrame.\n",
      "Try using .loc[row_indexer,col_indexer] = value instead\n",
      "\n",
      "See the caveats in the documentation: https://pandas.pydata.org/pandas-docs/stable/user_guide/indexing.html#returning-a-view-versus-a-copy\n",
      "  isetter(loc, value)\n"
     ]
    },
    {
     "data": {
      "text/plain": [
       "speed\n",
       "0     3785.714286\n",
       "1     2689.024390\n",
       "2     2853.658537\n",
       "3     2666.666667\n",
       "4     3209.302326\n",
       "         ...     \n",
       "74    4500.000000\n",
       "75    4000.000000\n",
       "76    3000.000000\n",
       "81    1000.000000\n",
       "87     500.000000\n",
       "Name: purchase_amt, Length: 72, dtype: float64"
      ]
     },
     "execution_count": 41,
     "metadata": {},
     "output_type": "execute_result"
    }
   ],
   "source": [
    "import datetime\n",
    "\n",
    "df22 = df[df['purchase_dt'].notna()]\n",
    "df22.info()\n",
    "\n",
    "#Удаление дубликатов\n",
    "mask = df22.duplicated(subset=\"client_id\", keep = 'first') \n",
    "df2 = df22.loc[~mask]\n",
    "df2.info()\n",
    "\n",
    "#Создаем столбец со скоростью утилизации (количество дней)\n",
    "df2['speed'] = df2.purchase_dt - pd.to_datetime(df2.reg_dttm, format = '%Y-%m-%d')\n",
    "df2['speed'] = df2['speed'].dt.days\n",
    "\n",
    "# Округляем количество дней\n",
    "df2['speed'] = np.where((df2.speed == 0), 1, df2.speed)\n",
    "df2.loc[(df2.speed == -1), 'speed'] = 0\n",
    "df2_sum = df2.groupby('speed')['purchase_amt'].sum()\n",
    "df2_mean = df2.groupby('speed')['purchase_amt'].mean()\n",
    "df2_mean"
   ]
  },
  {
   "cell_type": "code",
   "execution_count": 35,
   "metadata": {},
   "outputs": [
    {
     "data": {
      "text/html": [
       "<div>\n",
       "<style scoped>\n",
       "    .dataframe tbody tr th:only-of-type {\n",
       "        vertical-align: middle;\n",
       "    }\n",
       "\n",
       "    .dataframe tbody tr th {\n",
       "        vertical-align: top;\n",
       "    }\n",
       "\n",
       "    .dataframe thead th {\n",
       "        text-align: right;\n",
       "    }\n",
       "</style>\n",
       "<table border=\"1\" class=\"dataframe\">\n",
       "  <thead>\n",
       "    <tr style=\"text-align: right;\">\n",
       "      <th></th>\n",
       "      <th>purchase_amt</th>\n",
       "    </tr>\n",
       "    <tr>\n",
       "      <th>speed</th>\n",
       "      <th></th>\n",
       "    </tr>\n",
       "  </thead>\n",
       "  <tbody>\n",
       "    <tr>\n",
       "      <th>0</th>\n",
       "      <td>3785.714286</td>\n",
       "    </tr>\n",
       "    <tr>\n",
       "      <th>1</th>\n",
       "      <td>2689.024390</td>\n",
       "    </tr>\n",
       "    <tr>\n",
       "      <th>2</th>\n",
       "      <td>2853.658537</td>\n",
       "    </tr>\n",
       "    <tr>\n",
       "      <th>3</th>\n",
       "      <td>2666.666667</td>\n",
       "    </tr>\n",
       "    <tr>\n",
       "      <th>4</th>\n",
       "      <td>3209.302326</td>\n",
       "    </tr>\n",
       "    <tr>\n",
       "      <th>...</th>\n",
       "      <td>...</td>\n",
       "    </tr>\n",
       "    <tr>\n",
       "      <th>74</th>\n",
       "      <td>4500.000000</td>\n",
       "    </tr>\n",
       "    <tr>\n",
       "      <th>75</th>\n",
       "      <td>4000.000000</td>\n",
       "    </tr>\n",
       "    <tr>\n",
       "      <th>76</th>\n",
       "      <td>3000.000000</td>\n",
       "    </tr>\n",
       "    <tr>\n",
       "      <th>81</th>\n",
       "      <td>1000.000000</td>\n",
       "    </tr>\n",
       "    <tr>\n",
       "      <th>87</th>\n",
       "      <td>500.000000</td>\n",
       "    </tr>\n",
       "  </tbody>\n",
       "</table>\n",
       "<p>72 rows × 1 columns</p>\n",
       "</div>"
      ],
      "text/plain": [
       "       purchase_amt\n",
       "speed              \n",
       "0       3785.714286\n",
       "1       2689.024390\n",
       "2       2853.658537\n",
       "3       2666.666667\n",
       "4       3209.302326\n",
       "...             ...\n",
       "74      4500.000000\n",
       "75      4000.000000\n",
       "76      3000.000000\n",
       "81      1000.000000\n",
       "87       500.000000\n",
       "\n",
       "[72 rows x 1 columns]"
      ]
     },
     "execution_count": 35,
     "metadata": {},
     "output_type": "execute_result"
    }
   ],
   "source": [
    "# Переводим во фрейм\n",
    "df2_mean_ = df2_mean.to_frame()\n",
    "df2_mean_\n"
   ]
  },
  {
   "cell_type": "code",
   "execution_count": 36,
   "metadata": {},
   "outputs": [
    {
     "data": {
      "text/plain": [
       "cut\n",
       "0-5      2840.25\n",
       "5-10     3255.32\n",
       "10-15    3195.09\n",
       "15-20    3118.45\n",
       "20-25    3237.85\n",
       "25-30    3233.56\n",
       "30-35    2887.30\n",
       "35-40    3608.10\n",
       "40-45    2410.00\n",
       "45-50    3329.17\n",
       "50-55    2850.00\n",
       "55-60    3500.00\n",
       "60-65    2625.00\n",
       "65-70    4625.00\n",
       "70-75    4166.67\n",
       "75-80    3000.00\n",
       "80-87     750.00\n",
       "Name: purchase_amt, dtype: float64"
      ]
     },
     "execution_count": 36,
     "metadata": {},
     "output_type": "execute_result"
    }
   ],
   "source": [
    "# разделяем на группы с интрервалом 5 дней\n",
    "cut_bins = [0, 5, 10, 15, 20, 25, 30, 35, 40, 45, 50, 55, 60, 65, 70, 75, 80, 87]\n",
    "df2_mean_['cut'] = pd.cut(df2_mean_.index,\n",
    "                       bins=cut_bins,\n",
    "                        labels = ['0-5', '5-10', '10-15', '15-20', '20-25', '25-30', '30-35', '35-40', '40-45', '45-50', '50-55', '55-60', '60-65', '65-70', '70-75', '75-80', '80-87'])\n",
    "df2_final = df2_mean_.groupby(df2_mean_.cut).mean()\n",
    "df2_final.purchase_amt.round(2)\n"
   ]
  },
  {
   "cell_type": "code",
   "execution_count": 42,
   "metadata": {},
   "outputs": [
    {
     "data": {
      "text/plain": [
       "Text(0.5, 0, 'Руб')"
      ]
     },
     "execution_count": 42,
     "metadata": {},
     "output_type": "execute_result"
    },
    {
     "data": {
      "image/png": "[encoded data removed]",
      "text/plain": [
       "<Figure size 720x576 with 1 Axes>"
      ]
     },
     "metadata": {
      "needs_background": "light"
     },
     "output_type": "display_data"
    }
   ],
   "source": [
    "# Строим график\n",
    "fig, ax = plt.subplots(figsize = (10,8))\n",
    "\n",
    "ax.barh(df2_final.index, df2_final.purchase_amt, color = '#40E0D0')\n",
    "plt.title('Зависимость размера первой покупки от скорости утилизации', fontsize = 16)\n",
    "plt.ylabel('Дни',fontsize = 12)\n",
    "plt.xlabel('Руб', fontsize = 12)\n"
   ]
  },
  {
   "cell_type": "code",
   "execution_count": null,
   "metadata": {},
   "outputs": [],
   "source": []
  }
 ],
 "metadata": {
  "kernelspec": {
   "display_name": "Python 3",
   "language": "python",
   "name": "python3"
  },
  "language_info": {
   "codemirror_mode": {
    "name": "ipython",
    "version": 3
   },
   "file_extension": ".py",
   "mimetype": "text/x-python",
   "name": "python",
   "nbconvert_exporter": "python",
   "pygments_lexer": "ipython3",
   "version": "3.8.5"
  }
 },
 "nbformat": 4,
 "nbformat_minor": 4
}
